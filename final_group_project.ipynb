{
 "cells": [
  {
   "cell_type": "markdown",
   "metadata": {},
   "source": [
    "## DSCI 100 Group Project "
   ]
  },
  {
   "cell_type": "markdown",
   "metadata": {},
   "source": [
    "By Tony Fu, Hao Jiang, and Aimee Garcia Castro"
   ]
  },
  {
   "cell_type": "markdown",
   "metadata": {},
   "source": [
    "## Introduction: \n",
    "\n",
    "There are many elements that play a role in how well a student will perform on a test. The objective for this group project is predicting the knowledge level of an individual based on such elements. The knowledge levels include: `high`, `middle`, `low` and `very_low` We will be looking at the \"User Knowledge\" dataset obtained from the UCI Machine Learning Repository. The data in this dataset looks at `STG` (the degree of study time for goal object materials), `SCG` (the degree of repetition number of user for goal object materials), `STR` (the degree of study time of user for related objects with goal object), `LPR` (the exam performance of user for related object with goal object), and `PEG` (the exam performance of user for goal objects). As well, it relates `PEG` to `UNS` (the knowledge level of the user). This data will be used as predictors for `UNS`\n",
    " \n",
    "Our predictive question that we will try to answer is: “Can we predict the `UNS` of an individual based on factors such as `STG`, `SCG`, and `STR`?”\n",
    " \n"
   ]
  },
  {
   "cell_type": "markdown",
   "metadata": {},
   "source": [
    "## Methods: \n",
    "\n",
    "We begin by loading the libraries required to perform exploratory analysis. "
   ]
  },
  {
   "cell_type": "code",
   "execution_count": 74,
   "metadata": {},
   "outputs": [],
   "source": [
    "library(tidyverse)\n",
    "library(ggplot2)\n",
    "library(tidymodels)\n",
    "library(repr)\n",
    "library(GGally)\n",
    "library(readxl)\n",
    "options(repr.matrix.max.rows = 6)"
   ]
  },
  {
   "cell_type": "markdown",
   "metadata": {},
   "source": [
    "Now, we need to transfer the data from the website to R, since the data is located on the website. As the data is available as an Excel spreadsheet, we are going to need to download it as a file with `download.file`. We have stored the file described as an url from the Internet as an object called `url` and used this in the `download.file` function.\n",
    "\n",
    "After we have downloaded the data as a file on R, we are going to use the `read_excel` function to transfer the data from the spreadsheet. We will be using the `sheet` function to specify which sheet of the Excel file contains the data we are going to use. This will be `sheet = 2` as the second sheet is listed as **training data**, which will be crucial once we create our classifier. \n",
    "\n",
    "We notice that the last 3 columns are irrelevant to the data, so we will be removing those by selecting the wanted data with the `select` function.\n",
    "\n",
    "Furthermore, although not required, we chose to lowercase all the `UNS` labels to keep the labeling consistent with the `mutate` function, along with the `recode` function."
   ]
  },
  {
   "cell_type": "code",
   "execution_count": 75,
   "metadata": {},
   "outputs": [
    {
     "name": "stderr",
     "output_type": "stream",
     "text": [
      "New names:\n",
      "* `` -> ...7\n",
      "* `` -> ...8\n",
      "\n"
     ]
    },
    {
     "data": {
      "text/html": [
       "<table>\n",
       "<caption>A tibble: 258 × 6</caption>\n",
       "<thead>\n",
       "\t<tr><th scope=col>STG</th><th scope=col>SCG</th><th scope=col>STR</th><th scope=col>LPR</th><th scope=col>PEG</th><th scope=col>UNS</th></tr>\n",
       "\t<tr><th scope=col>&lt;dbl&gt;</th><th scope=col>&lt;dbl&gt;</th><th scope=col>&lt;dbl&gt;</th><th scope=col>&lt;dbl&gt;</th><th scope=col>&lt;dbl&gt;</th><th scope=col>&lt;chr&gt;</th></tr>\n",
       "</thead>\n",
       "<tbody>\n",
       "\t<tr><td>0.00</td><td>0.00</td><td>0.00</td><td>0.00</td><td>0.00</td><td>very_low</td></tr>\n",
       "\t<tr><td>0.08</td><td>0.08</td><td>0.10</td><td>0.24</td><td>0.90</td><td>high    </td></tr>\n",
       "\t<tr><td>0.06</td><td>0.06</td><td>0.05</td><td>0.25</td><td>0.33</td><td>low     </td></tr>\n",
       "\t<tr><td>⋮</td><td>⋮</td><td>⋮</td><td>⋮</td><td>⋮</td><td>⋮</td></tr>\n",
       "\t<tr><td>0.54</td><td>0.82</td><td>0.71</td><td>0.29</td><td>0.77</td><td>high  </td></tr>\n",
       "\t<tr><td>0.50</td><td>0.75</td><td>0.81</td><td>0.61</td><td>0.26</td><td>middle</td></tr>\n",
       "\t<tr><td>0.66</td><td>0.90</td><td>0.76</td><td>0.87</td><td>0.74</td><td>high  </td></tr>\n",
       "</tbody>\n",
       "</table>\n"
      ],
      "text/latex": [
       "A tibble: 258 × 6\n",
       "\\begin{tabular}{llllll}\n",
       " STG & SCG & STR & LPR & PEG & UNS\\\\\n",
       " <dbl> & <dbl> & <dbl> & <dbl> & <dbl> & <chr>\\\\\n",
       "\\hline\n",
       "\t 0.00 & 0.00 & 0.00 & 0.00 & 0.00 & very\\_low\\\\\n",
       "\t 0.08 & 0.08 & 0.10 & 0.24 & 0.90 & high    \\\\\n",
       "\t 0.06 & 0.06 & 0.05 & 0.25 & 0.33 & low     \\\\\n",
       "\t ⋮ & ⋮ & ⋮ & ⋮ & ⋮ & ⋮\\\\\n",
       "\t 0.54 & 0.82 & 0.71 & 0.29 & 0.77 & high  \\\\\n",
       "\t 0.50 & 0.75 & 0.81 & 0.61 & 0.26 & middle\\\\\n",
       "\t 0.66 & 0.90 & 0.76 & 0.87 & 0.74 & high  \\\\\n",
       "\\end{tabular}\n"
      ],
      "text/markdown": [
       "\n",
       "A tibble: 258 × 6\n",
       "\n",
       "| STG &lt;dbl&gt; | SCG &lt;dbl&gt; | STR &lt;dbl&gt; | LPR &lt;dbl&gt; | PEG &lt;dbl&gt; | UNS &lt;chr&gt; |\n",
       "|---|---|---|---|---|---|\n",
       "| 0.00 | 0.00 | 0.00 | 0.00 | 0.00 | very_low |\n",
       "| 0.08 | 0.08 | 0.10 | 0.24 | 0.90 | high     |\n",
       "| 0.06 | 0.06 | 0.05 | 0.25 | 0.33 | low      |\n",
       "| ⋮ | ⋮ | ⋮ | ⋮ | ⋮ | ⋮ |\n",
       "| 0.54 | 0.82 | 0.71 | 0.29 | 0.77 | high   |\n",
       "| 0.50 | 0.75 | 0.81 | 0.61 | 0.26 | middle |\n",
       "| 0.66 | 0.90 | 0.76 | 0.87 | 0.74 | high   |\n",
       "\n"
      ],
      "text/plain": [
       "    STG  SCG  STR  LPR  PEG  UNS     \n",
       "1   0.00 0.00 0.00 0.00 0.00 very_low\n",
       "2   0.08 0.08 0.10 0.24 0.90 high    \n",
       "3   0.06 0.06 0.05 0.25 0.33 low     \n",
       "⋮   ⋮    ⋮    ⋮    ⋮    ⋮    ⋮       \n",
       "256 0.54 0.82 0.71 0.29 0.77 high    \n",
       "257 0.50 0.75 0.81 0.61 0.26 middle  \n",
       "258 0.66 0.90 0.76 0.87 0.74 high    "
      ]
     },
     "metadata": {},
     "output_type": "display_data"
    }
   ],
   "source": [
    "url <- \"https://archive.ics.uci.edu/ml/machine-learning-databases/00257/Data_User_Modeling_Dataset_Hamdi%20Tolga%20KAHRAMAN.xls\"\n",
    "\n",
    "download.file(url, destfile = \"Data_User_Modeling_Dataset_Hamdi Tolga KAHRAMAN.xls\")\n",
    "\n",
    "user_knowledge <- read_excel(path = \"Data_User_Modeling_Dataset_Hamdi Tolga KAHRAMAN.xls\", sheet = 2) %>%\n",
    "    select(STG:UNS) %>%\n",
    "    mutate(UNS = recode(UNS, High = 'high', Middle = 'middle', Low = 'low'))\n",
    "\n",
    "user_knowledge"
   ]
  },
  {
   "cell_type": "markdown",
   "metadata": {},
   "source": [
    "*Table 1*: Tidied \"User Knowledge\" dataset obtained from UCI Machine Learning Repository"
   ]
  },
  {
   "cell_type": "markdown",
   "metadata": {},
   "source": [
    "## Searching for NAs:\n"
   ]
  },
  {
   "cell_type": "markdown",
   "metadata": {},
   "source": [
    "We will now be looking for NA values in our data frame, and handle them appropriately as they represent a missing or incomplete value in our data. "
   ]
  },
  {
   "cell_type": "code",
   "execution_count": 76,
   "metadata": {},
   "outputs": [
    {
     "data": {
      "text/html": [
       "0"
      ],
      "text/latex": [
       "0"
      ],
      "text/markdown": [
       "0"
      ],
      "text/plain": [
       "[1] 0"
      ]
     },
     "metadata": {},
     "output_type": "display_data"
    }
   ],
   "source": [
    "sum(is.na(user_knowledge))"
   ]
  },
  {
   "cell_type": "markdown",
   "metadata": {},
   "source": [
    "Thankfully there are no NAs in our data frame, so no further adjustments must be made to our current data frame."
   ]
  },
  {
   "cell_type": "markdown",
   "metadata": {},
   "source": [
    "## Defining Variables:"
   ]
  },
  {
   "cell_type": "markdown",
   "metadata": {},
   "source": [
    "We have already mentioned what each of the variables acronym means in the introduction. However, to reiterate, `STG` represents the study time for main topics, `SCG` represents the reptition in studying, `STR` represents study time for related topics, `LPR` represents exam performance of related topics, `PEG` represents exam performance of main topics, and `UNS` represents the knowledge level. All variables from `STG` to `PEG` have a range from 0 to 1. `UNS` contain the labels `very_low`, `low`, `middle`, and `high`, where `very_low` corresponds to a low `PEG` whereas `high` corresponds to a high `PEG`."
   ]
  },
  {
   "cell_type": "markdown",
   "metadata": {},
   "source": [
    "## Determining Predictors:"
   ]
  },
  {
   "cell_type": "markdown",
   "metadata": {},
   "source": [
    "To begin, we have decided to remove `LPR` since a high `LPR` would result from a high `STR`. This means that if we included both as predictors, we would essentially be using the same predictor twice, leading to these `STR` having a larger influence than wanted. Furthermore, we have also decided to remove `PEG` since `UNS` is based on `PEG`, meaning `PEG` will have a larger influence than the other possible predictors."
   ]
  },
  {
   "cell_type": "code",
   "execution_count": 77,
   "metadata": {},
   "outputs": [
    {
     "data": {
      "text/html": [
       "<table>\n",
       "<caption>A tibble: 258 × 4</caption>\n",
       "<thead>\n",
       "\t<tr><th scope=col>STG</th><th scope=col>SCG</th><th scope=col>STR</th><th scope=col>UNS</th></tr>\n",
       "\t<tr><th scope=col>&lt;dbl&gt;</th><th scope=col>&lt;dbl&gt;</th><th scope=col>&lt;dbl&gt;</th><th scope=col>&lt;chr&gt;</th></tr>\n",
       "</thead>\n",
       "<tbody>\n",
       "\t<tr><td>0.00</td><td>0.00</td><td>0.00</td><td>very_low</td></tr>\n",
       "\t<tr><td>0.08</td><td>0.08</td><td>0.10</td><td>high    </td></tr>\n",
       "\t<tr><td>0.06</td><td>0.06</td><td>0.05</td><td>low     </td></tr>\n",
       "\t<tr><td>⋮</td><td>⋮</td><td>⋮</td><td>⋮</td></tr>\n",
       "\t<tr><td>0.54</td><td>0.82</td><td>0.71</td><td>high  </td></tr>\n",
       "\t<tr><td>0.50</td><td>0.75</td><td>0.81</td><td>middle</td></tr>\n",
       "\t<tr><td>0.66</td><td>0.90</td><td>0.76</td><td>high  </td></tr>\n",
       "</tbody>\n",
       "</table>\n"
      ],
      "text/latex": [
       "A tibble: 258 × 4\n",
       "\\begin{tabular}{llll}\n",
       " STG & SCG & STR & UNS\\\\\n",
       " <dbl> & <dbl> & <dbl> & <chr>\\\\\n",
       "\\hline\n",
       "\t 0.00 & 0.00 & 0.00 & very\\_low\\\\\n",
       "\t 0.08 & 0.08 & 0.10 & high    \\\\\n",
       "\t 0.06 & 0.06 & 0.05 & low     \\\\\n",
       "\t ⋮ & ⋮ & ⋮ & ⋮\\\\\n",
       "\t 0.54 & 0.82 & 0.71 & high  \\\\\n",
       "\t 0.50 & 0.75 & 0.81 & middle\\\\\n",
       "\t 0.66 & 0.90 & 0.76 & high  \\\\\n",
       "\\end{tabular}\n"
      ],
      "text/markdown": [
       "\n",
       "A tibble: 258 × 4\n",
       "\n",
       "| STG &lt;dbl&gt; | SCG &lt;dbl&gt; | STR &lt;dbl&gt; | UNS &lt;chr&gt; |\n",
       "|---|---|---|---|\n",
       "| 0.00 | 0.00 | 0.00 | very_low |\n",
       "| 0.08 | 0.08 | 0.10 | high     |\n",
       "| 0.06 | 0.06 | 0.05 | low      |\n",
       "| ⋮ | ⋮ | ⋮ | ⋮ |\n",
       "| 0.54 | 0.82 | 0.71 | high   |\n",
       "| 0.50 | 0.75 | 0.81 | middle |\n",
       "| 0.66 | 0.90 | 0.76 | high   |\n",
       "\n"
      ],
      "text/plain": [
       "    STG  SCG  STR  UNS     \n",
       "1   0.00 0.00 0.00 very_low\n",
       "2   0.08 0.08 0.10 high    \n",
       "3   0.06 0.06 0.05 low     \n",
       "⋮   ⋮    ⋮    ⋮    ⋮       \n",
       "256 0.54 0.82 0.71 high    \n",
       "257 0.50 0.75 0.81 middle  \n",
       "258 0.66 0.90 0.76 high    "
      ]
     },
     "metadata": {},
     "output_type": "display_data"
    }
   ],
   "source": [
    "user_knowledge <- user_knowledge %>%\n",
    "    select(-LPR, -PEG)\n",
    "\n",
    "user_knowledge"
   ]
  },
  {
   "cell_type": "markdown",
   "metadata": {},
   "source": [
    "*Table 2*: Potential predictors that may be used for analysis"
   ]
  },
  {
   "cell_type": "markdown",
   "metadata": {},
   "source": [
    "Now, we are left with four variables: `STG`, `SCG`, `STR`, and `UNS`. Since the categorical class we are trying to predict `UNS`, we must turn it into a factor. This is done by using the `mutate` and `as_factor` functions."
   ]
  },
  {
   "cell_type": "code",
   "execution_count": 78,
   "metadata": {},
   "outputs": [
    {
     "data": {
      "text/html": [
       "<table>\n",
       "<caption>A tibble: 258 × 4</caption>\n",
       "<thead>\n",
       "\t<tr><th scope=col>STG</th><th scope=col>SCG</th><th scope=col>STR</th><th scope=col>UNS</th></tr>\n",
       "\t<tr><th scope=col>&lt;dbl&gt;</th><th scope=col>&lt;dbl&gt;</th><th scope=col>&lt;dbl&gt;</th><th scope=col>&lt;fct&gt;</th></tr>\n",
       "</thead>\n",
       "<tbody>\n",
       "\t<tr><td>0.00</td><td>0.00</td><td>0.00</td><td>very_low</td></tr>\n",
       "\t<tr><td>0.08</td><td>0.08</td><td>0.10</td><td>high    </td></tr>\n",
       "\t<tr><td>0.06</td><td>0.06</td><td>0.05</td><td>low     </td></tr>\n",
       "\t<tr><td>⋮</td><td>⋮</td><td>⋮</td><td>⋮</td></tr>\n",
       "\t<tr><td>0.54</td><td>0.82</td><td>0.71</td><td>high  </td></tr>\n",
       "\t<tr><td>0.50</td><td>0.75</td><td>0.81</td><td>middle</td></tr>\n",
       "\t<tr><td>0.66</td><td>0.90</td><td>0.76</td><td>high  </td></tr>\n",
       "</tbody>\n",
       "</table>\n"
      ],
      "text/latex": [
       "A tibble: 258 × 4\n",
       "\\begin{tabular}{llll}\n",
       " STG & SCG & STR & UNS\\\\\n",
       " <dbl> & <dbl> & <dbl> & <fct>\\\\\n",
       "\\hline\n",
       "\t 0.00 & 0.00 & 0.00 & very\\_low\\\\\n",
       "\t 0.08 & 0.08 & 0.10 & high    \\\\\n",
       "\t 0.06 & 0.06 & 0.05 & low     \\\\\n",
       "\t ⋮ & ⋮ & ⋮ & ⋮\\\\\n",
       "\t 0.54 & 0.82 & 0.71 & high  \\\\\n",
       "\t 0.50 & 0.75 & 0.81 & middle\\\\\n",
       "\t 0.66 & 0.90 & 0.76 & high  \\\\\n",
       "\\end{tabular}\n"
      ],
      "text/markdown": [
       "\n",
       "A tibble: 258 × 4\n",
       "\n",
       "| STG &lt;dbl&gt; | SCG &lt;dbl&gt; | STR &lt;dbl&gt; | UNS &lt;fct&gt; |\n",
       "|---|---|---|---|\n",
       "| 0.00 | 0.00 | 0.00 | very_low |\n",
       "| 0.08 | 0.08 | 0.10 | high     |\n",
       "| 0.06 | 0.06 | 0.05 | low      |\n",
       "| ⋮ | ⋮ | ⋮ | ⋮ |\n",
       "| 0.54 | 0.82 | 0.71 | high   |\n",
       "| 0.50 | 0.75 | 0.81 | middle |\n",
       "| 0.66 | 0.90 | 0.76 | high   |\n",
       "\n"
      ],
      "text/plain": [
       "    STG  SCG  STR  UNS     \n",
       "1   0.00 0.00 0.00 very_low\n",
       "2   0.08 0.08 0.10 high    \n",
       "3   0.06 0.06 0.05 low     \n",
       "⋮   ⋮    ⋮    ⋮    ⋮       \n",
       "256 0.54 0.82 0.71 high    \n",
       "257 0.50 0.75 0.81 middle  \n",
       "258 0.66 0.90 0.76 high    "
      ]
     },
     "metadata": {},
     "output_type": "display_data"
    }
   ],
   "source": [
    "user_knowledge <- user_knowledge %>%\n",
    "    mutate(UNS = as.factor(UNS))\n",
    "\n",
    "user_knowledge"
   ]
  },
  {
   "cell_type": "markdown",
   "metadata": {},
   "source": [
    "*Table 3*: Potential predictors with `UNS` changed to class \"factor\""
   ]
  },
  {
   "cell_type": "markdown",
   "metadata": {},
   "source": [
    "Currently, we need to see which predictors we should use and which ones should be removed. We will do this through a method called forward selection, where we are building a model by adding one predictor at a time. This model will select the most accurate combinations given the predictors STG, SCG, and STR. We have also used the `set.seed` function to make sure our findings for accuracy are reproducible. \n",
    "\n",
    "*Note: The following code was taken from Chapter 6.8 of the textbook.*"
   ]
  },
  {
   "cell_type": "code",
   "execution_count": 79,
   "metadata": {},
   "outputs": [
    {
     "data": {
      "text/html": [
       "<table>\n",
       "<caption>A tibble: 3 × 3</caption>\n",
       "<thead>\n",
       "\t<tr><th scope=col>size</th><th scope=col>model_string</th><th scope=col>accuracy</th></tr>\n",
       "\t<tr><th scope=col>&lt;int&gt;</th><th scope=col>&lt;chr&gt;</th><th scope=col>&lt;dbl&gt;</th></tr>\n",
       "</thead>\n",
       "<tbody>\n",
       "\t<tr><td>1</td><td>UNS ~ STG        </td><td>0.5001508</td></tr>\n",
       "\t<tr><td>2</td><td>UNS ~ STG+STR    </td><td>0.4033183</td></tr>\n",
       "\t<tr><td>3</td><td>UNS ~ STG+STR+SCG</td><td>0.3917044</td></tr>\n",
       "</tbody>\n",
       "</table>\n"
      ],
      "text/latex": [
       "A tibble: 3 × 3\n",
       "\\begin{tabular}{lll}\n",
       " size & model\\_string & accuracy\\\\\n",
       " <int> & <chr> & <dbl>\\\\\n",
       "\\hline\n",
       "\t 1 & UNS \\textasciitilde{} STG         & 0.5001508\\\\\n",
       "\t 2 & UNS \\textasciitilde{} STG+STR     & 0.4033183\\\\\n",
       "\t 3 & UNS \\textasciitilde{} STG+STR+SCG & 0.3917044\\\\\n",
       "\\end{tabular}\n"
      ],
      "text/markdown": [
       "\n",
       "A tibble: 3 × 3\n",
       "\n",
       "| size &lt;int&gt; | model_string &lt;chr&gt; | accuracy &lt;dbl&gt; |\n",
       "|---|---|---|\n",
       "| 1 | UNS ~ STG         | 0.5001508 |\n",
       "| 2 | UNS ~ STG+STR     | 0.4033183 |\n",
       "| 3 | UNS ~ STG+STR+SCG | 0.3917044 |\n",
       "\n"
      ],
      "text/plain": [
       "  size model_string      accuracy \n",
       "1 1    UNS ~ STG         0.5001508\n",
       "2 2    UNS ~ STG+STR     0.4033183\n",
       "3 3    UNS ~ STG+STR+SCG 0.3917044"
      ]
     },
     "metadata": {},
     "output_type": "display_data"
    }
   ],
   "source": [
    "set.seed(1)\n",
    "\n",
    "names <- colnames(user_knowledge %>% select(-UNS)) \n",
    "example_formula <- paste(\"UNS\", \"~\", paste(names, collapse=\"+\"))\n",
    "\n",
    "accuracies <- tibble(size = integer(), \n",
    "                     model_string = character(), \n",
    "                     accuracy = numeric())\n",
    "\n",
    "knn_spec <- nearest_neighbor(weight_func = \"rectangular\", \n",
    "                             neighbors = tune()) %>%\n",
    "    set_engine(\"kknn\") %>%\n",
    "    set_mode(\"classification\")\n",
    "\n",
    "user_knowledge_vfold <- vfold_cv(user_knowledge, v = 5, strata = UNS)\n",
    "\n",
    "n_total <- length(names)\n",
    "\n",
    "selected <- c()\n",
    "\n",
    "for (i in 1:n_total) {\n",
    "    accs <- list()\n",
    "    models <- list()\n",
    "    for (j in 1:length(names)) {\n",
    "        preds_new <- c(selected, names[[j]])\n",
    "        model_string <- paste(\"UNS\", \"~\", paste(preds_new, collapse=\"+\"))\n",
    "\n",
    "        user_knowledge_recipe <- recipe(as.formula(model_string), \n",
    "                                data = user_knowledge) %>%\n",
    "                          step_scale(all_predictors()) %>%\n",
    "                          step_center(all_predictors())\n",
    "        \n",
    "        acc <- workflow() %>%\n",
    "          add_recipe(user_knowledge_recipe) %>%\n",
    "          add_model(knn_spec) %>%\n",
    "          tune_grid(resamples = user_knowledge_vfold, grid = 10) %>%\n",
    "          collect_metrics() %>%\n",
    "          filter(.metric == \"accuracy\") %>%\n",
    "          summarize(mx = max(mean))\n",
    "        acc <- acc$mx %>% unlist()\n",
    "\n",
    "        # add this result to the dataframe\n",
    "        accs[[j]] <- acc\n",
    "        models[[j]] <- model_string\n",
    "    }\n",
    "    jstar <- which.max(unlist(accs))\n",
    "    accuracies <- accuracies %>%\n",
    "      add_row(size = i, \n",
    "              model_string = models[[jstar]], \n",
    "              accuracy = accs[[jstar]])\n",
    "    selected <- c(selected, names[[jstar]])\n",
    "    names <- names[-jstar]\n",
    "}\n",
    "accuracies"
   ]
  },
  {
   "cell_type": "markdown",
   "metadata": {},
   "source": [
    "*Table 4*: Accuracies of different number of predictors used in the model"
   ]
  },
  {
   "cell_type": "markdown",
   "metadata": {},
   "source": [
    "As we can see in the table, the most accurate predictor is `STG`. The second most would be `STR`, since the model selected the combination of `STG` and `STR` as the most accurate when using two predictors. Finally, `SCG` would be the least accurate predictor out of the three. We can also see that there is a constant decrease when we add predictors. We tried removing `STG` from the data set to have the model measure the accuracy of the combination of predictors `STR` and `SCG`. We further tried removing `STR` from the data set to have the model measure the accuracy of the combination of predictors `STG` and `SCG`. We found that the original combination of `STG` and `STR` resulted in the highest accuracy of the combination of two predictors, which is why we are going to be using these two in our analysis as we require two predictors to create a plot for predictions. Thus, we can remove `SCG` from our data frame."
   ]
  },
  {
   "cell_type": "code",
   "execution_count": 80,
   "metadata": {},
   "outputs": [
    {
     "data": {
      "text/html": [
       "<table>\n",
       "<caption>A tibble: 258 × 3</caption>\n",
       "<thead>\n",
       "\t<tr><th scope=col>STG</th><th scope=col>STR</th><th scope=col>UNS</th></tr>\n",
       "\t<tr><th scope=col>&lt;dbl&gt;</th><th scope=col>&lt;dbl&gt;</th><th scope=col>&lt;fct&gt;</th></tr>\n",
       "</thead>\n",
       "<tbody>\n",
       "\t<tr><td>0.00</td><td>0.00</td><td>very_low</td></tr>\n",
       "\t<tr><td>0.08</td><td>0.10</td><td>high    </td></tr>\n",
       "\t<tr><td>0.06</td><td>0.05</td><td>low     </td></tr>\n",
       "\t<tr><td>⋮</td><td>⋮</td><td>⋮</td></tr>\n",
       "\t<tr><td>0.54</td><td>0.71</td><td>high  </td></tr>\n",
       "\t<tr><td>0.50</td><td>0.81</td><td>middle</td></tr>\n",
       "\t<tr><td>0.66</td><td>0.76</td><td>high  </td></tr>\n",
       "</tbody>\n",
       "</table>\n"
      ],
      "text/latex": [
       "A tibble: 258 × 3\n",
       "\\begin{tabular}{lll}\n",
       " STG & STR & UNS\\\\\n",
       " <dbl> & <dbl> & <fct>\\\\\n",
       "\\hline\n",
       "\t 0.00 & 0.00 & very\\_low\\\\\n",
       "\t 0.08 & 0.10 & high    \\\\\n",
       "\t 0.06 & 0.05 & low     \\\\\n",
       "\t ⋮ & ⋮ & ⋮\\\\\n",
       "\t 0.54 & 0.71 & high  \\\\\n",
       "\t 0.50 & 0.81 & middle\\\\\n",
       "\t 0.66 & 0.76 & high  \\\\\n",
       "\\end{tabular}\n"
      ],
      "text/markdown": [
       "\n",
       "A tibble: 258 × 3\n",
       "\n",
       "| STG &lt;dbl&gt; | STR &lt;dbl&gt; | UNS &lt;fct&gt; |\n",
       "|---|---|---|\n",
       "| 0.00 | 0.00 | very_low |\n",
       "| 0.08 | 0.10 | high     |\n",
       "| 0.06 | 0.05 | low      |\n",
       "| ⋮ | ⋮ | ⋮ |\n",
       "| 0.54 | 0.71 | high   |\n",
       "| 0.50 | 0.81 | middle |\n",
       "| 0.66 | 0.76 | high   |\n",
       "\n"
      ],
      "text/plain": [
       "    STG  STR  UNS     \n",
       "1   0.00 0.00 very_low\n",
       "2   0.08 0.10 high    \n",
       "3   0.06 0.05 low     \n",
       "⋮   ⋮    ⋮    ⋮       \n",
       "256 0.54 0.71 high    \n",
       "257 0.50 0.81 middle  \n",
       "258 0.66 0.76 high    "
      ]
     },
     "metadata": {},
     "output_type": "display_data"
    }
   ],
   "source": [
    "user_knowledge <- user_knowledge %>%\n",
    "    select(-SCG)\n",
    "\n",
    "user_knowledge"
   ]
  },
  {
   "cell_type": "markdown",
   "metadata": {},
   "source": [
    "*Table 5*: Predictors that will be used for analysis"
   ]
  },
  {
   "cell_type": "markdown",
   "metadata": {},
   "source": [
    "## Exploratory Analysis:"
   ]
  },
  {
   "cell_type": "markdown",
   "metadata": {},
   "source": [
    "To start, we will perform some exploratory analysis on our predictors `STG` and `STR` and see their relationship with our categorial variable of interest `UNS`. Since `UNS` has different levels, we will create boxplots showing the relationship between `STG` and each level of `UNS`. We will be reordering the boxplots in terms of ascending order of means."
   ]
  },
  {
   "cell_type": "code",
   "execution_count": 81,
   "metadata": {},
   "outputs": [
    {
     "data": {
      "image/png": "[encoded data removed]",
      "text/plain": [
       "plot without title"
      ]
     },
     "metadata": {
      "image/png": {
       "height": 420,
       "width": 600
      }
     },
     "output_type": "display_data"
    }
   ],
   "source": [
    "user_knowledge_plot <- ggplot(user_knowledge, aes(x = STG, y = reorder(UNS, +STG), fill = UNS)) +\n",
    "    geom_boxplot() +\n",
    "    labs(x = \"STG (Study Time For Main Topics)\", y = \"UNS (Knowledge Level)\") +\n",
    "    ggtitle(\"Boxplot of STG (Study Time For Main Topics) \\nby UNS (Knowledge Level)\") + \n",
    "    scale_fill_brewer(palette=\"Blues\") +\n",
    "    theme(text = element_text(size = 16)) \n",
    "\n",
    "user_knowledge_plot"
   ]
  },
  {
   "cell_type": "markdown",
   "metadata": {},
   "source": [
    "*Figure 1*: Boxplot of `STG` per `UNS`"
   ]
  },
  {
   "cell_type": "markdown",
   "metadata": {},
   "source": [
    "Looking at Figure 1, we can see that the mean for `very_low` has the lowest `STG` while the mean for `high` has the highest `STG`. We can conclude that as `STG` increases, so does the `UNS` as seen with the means of each boxplot. This indicates that there is a positive relationship between `STG` and the different levels of `UNS` based on the means. Hence, `STG` does affect the levels of `UNS` and this will be discussed in our data analysis section.\n",
    "\n",
    "We can make similar boxplots showing the relationship between `STR` and each level of `UNS`."
   ]
  },
  {
   "cell_type": "code",
   "execution_count": 82,
   "metadata": {},
   "outputs": [
    {
     "data": {
      "image/png": "[encoded data removed]",
      "text/plain": [
       "plot without title"
      ]
     },
     "metadata": {
      "image/png": {
       "height": 420,
       "width": 600
      }
     },
     "output_type": "display_data"
    }
   ],
   "source": [
    "user_knowledge_plot_2 <- ggplot(user_knowledge, aes(x = STR, y = reorder(UNS, +STR), fill = UNS)) +\n",
    "    geom_boxplot() +\n",
    "    labs(x = \"STR (Study Time For Related Topics)\", y = \"UNS (Knowledge Level)\") +\n",
    "    ggtitle(\"Boxplot of STG (Study Time For Related Topics) \\nby UNS (Knowledge Level)\") + \n",
    "    scale_fill_brewer(palette=\"Blues\") +\n",
    "    theme(text = element_text(size = 16)) \n",
    "\n",
    "user_knowledge_plot_2"
   ]
  },
  {
   "cell_type": "markdown",
   "metadata": {},
   "source": [
    "*Figure 2*: Boxplot of `STR` per `UNS`"
   ]
  },
  {
   "cell_type": "markdown",
   "metadata": {},
   "source": [
    "Looking at Figure 2, we can see that similarly, `very_low` and `low` have the lowest and second lowest means respectively. However, `middle` has a STR mean that is slightly larger than the STR mean of `high`. Therefore, we can say there is a positive relationship between `STR` and the different levels of `UNS` based on the means till it gets to `middle` and `high` where they have relatively the same mean. Thus, we can say `STR` does impact `UNS` from `very_low` to `middle` and `high`, but it does not have a great impact between `middle` and `high`. This will be talked about in the data analysis section."
   ]
  },
  {
   "cell_type": "markdown",
   "metadata": {},
   "source": [
    "## Summarizing the Data Set"
   ]
  },
  {
   "cell_type": "markdown",
   "metadata": {},
   "source": [
    "Now, we will summarize the data set to obtain statistics which will be used for the data analysis section.  \n",
    "\n",
    "First, we start by calculating the mean, median, and standard deviation of both `STG` and `STR` in the data set."
   ]
  },
  {
   "cell_type": "code",
   "execution_count": 83,
   "metadata": {},
   "outputs": [
    {
     "data": {
      "text/html": [
       "<table>\n",
       "<caption>A tibble: 1 × 3</caption>\n",
       "<thead>\n",
       "\t<tr><th scope=col>mean_stg</th><th scope=col>med_stg</th><th scope=col>sd_stg</th></tr>\n",
       "\t<tr><th scope=col>&lt;dbl&gt;</th><th scope=col>&lt;dbl&gt;</th><th scope=col>&lt;dbl&gt;</th></tr>\n",
       "</thead>\n",
       "<tbody>\n",
       "\t<tr><td>0.3711473</td><td>0.327</td><td>0.2102712</td></tr>\n",
       "</tbody>\n",
       "</table>\n"
      ],
      "text/latex": [
       "A tibble: 1 × 3\n",
       "\\begin{tabular}{lll}\n",
       " mean\\_stg & med\\_stg & sd\\_stg\\\\\n",
       " <dbl> & <dbl> & <dbl>\\\\\n",
       "\\hline\n",
       "\t 0.3711473 & 0.327 & 0.2102712\\\\\n",
       "\\end{tabular}\n"
      ],
      "text/markdown": [
       "\n",
       "A tibble: 1 × 3\n",
       "\n",
       "| mean_stg &lt;dbl&gt; | med_stg &lt;dbl&gt; | sd_stg &lt;dbl&gt; |\n",
       "|---|---|---|\n",
       "| 0.3711473 | 0.327 | 0.2102712 |\n",
       "\n"
      ],
      "text/plain": [
       "  mean_stg  med_stg sd_stg   \n",
       "1 0.3711473 0.327   0.2102712"
      ]
     },
     "metadata": {},
     "output_type": "display_data"
    }
   ],
   "source": [
    "stg_stats <- user_knowledge %>%\n",
    "    summarize(mean_stg = mean(STG),\n",
    "              med_stg = median(STG), \n",
    "              sd_stg = sd(STG))\n",
    "\n",
    "stg_stats"
   ]
  },
  {
   "cell_type": "markdown",
   "metadata": {},
   "source": [
    "*Table 7*: Mean, median, and standard deviation of `STG`"
   ]
  },
  {
   "cell_type": "code",
   "execution_count": 84,
   "metadata": {},
   "outputs": [
    {
     "data": {
      "text/html": [
       "<table>\n",
       "<caption>A tibble: 1 × 3</caption>\n",
       "<thead>\n",
       "\t<tr><th scope=col>mean_stg</th><th scope=col>med_stg</th><th scope=col>sd_stg</th></tr>\n",
       "\t<tr><th scope=col>&lt;dbl&gt;</th><th scope=col>&lt;dbl&gt;</th><th scope=col>&lt;dbl&gt;</th></tr>\n",
       "</thead>\n",
       "<tbody>\n",
       "\t<tr><td>0.3711473</td><td>0.327</td><td>0.2102712</td></tr>\n",
       "</tbody>\n",
       "</table>\n"
      ],
      "text/latex": [
       "A tibble: 1 × 3\n",
       "\\begin{tabular}{lll}\n",
       " mean\\_stg & med\\_stg & sd\\_stg\\\\\n",
       " <dbl> & <dbl> & <dbl>\\\\\n",
       "\\hline\n",
       "\t 0.3711473 & 0.327 & 0.2102712\\\\\n",
       "\\end{tabular}\n"
      ],
      "text/markdown": [
       "\n",
       "A tibble: 1 × 3\n",
       "\n",
       "| mean_stg &lt;dbl&gt; | med_stg &lt;dbl&gt; | sd_stg &lt;dbl&gt; |\n",
       "|---|---|---|\n",
       "| 0.3711473 | 0.327 | 0.2102712 |\n",
       "\n"
      ],
      "text/plain": [
       "  mean_stg  med_stg sd_stg   \n",
       "1 0.3711473 0.327   0.2102712"
      ]
     },
     "metadata": {},
     "output_type": "display_data"
    }
   ],
   "source": [
    "str_stats <- user_knowledge %>%\n",
    "    summarize(mean_stg = mean(STG),\n",
    "              med_stg = median(STG), \n",
    "              sd_stg = sd(STG))\n",
    "\n",
    "str_stats"
   ]
  },
  {
   "cell_type": "markdown",
   "metadata": {},
   "source": [
    "*Table 8*: Mean, median, and standard deviation of `STR`"
   ]
  },
  {
   "cell_type": "code",
   "execution_count": null,
   "metadata": {},
   "outputs": [],
   "source": []
  },
  {
   "cell_type": "markdown",
   "metadata": {},
   "source": [
    "## Building the Classifier"
   ]
  },
  {
   "cell_type": "markdown",
   "metadata": {},
   "source": [
    "Before we start building our model, we found the number and percentage of the levels of `UNS` in our data set. To do that, we use the `group_by`, `summarize` and `n` functions. The `n` function inside `summarize`, when combined with `group_by`, counts the number of observations. Then, using `mutate`, we calculate the percentage in each group by dividing n by the total number of observations."
   ]
  },
  {
   "cell_type": "code",
   "execution_count": 85,
   "metadata": {},
   "outputs": [
    {
     "name": "stderr",
     "output_type": "stream",
     "text": [
      "`summarise()` ungrouping output (override with `.groups` argument)\n",
      "\n"
     ]
    },
    {
     "data": {
      "text/html": [
       "<table>\n",
       "<caption>A tibble: 4 × 3</caption>\n",
       "<thead>\n",
       "\t<tr><th scope=col>UNS</th><th scope=col>n</th><th scope=col>percent</th></tr>\n",
       "\t<tr><th scope=col>&lt;fct&gt;</th><th scope=col>&lt;int&gt;</th><th scope=col>&lt;dbl&gt;</th></tr>\n",
       "</thead>\n",
       "<tbody>\n",
       "\t<tr><td>high    </td><td>63</td><td>24.418605</td></tr>\n",
       "\t<tr><td>low     </td><td>83</td><td>32.170543</td></tr>\n",
       "\t<tr><td>middle  </td><td>88</td><td>34.108527</td></tr>\n",
       "\t<tr><td>very_low</td><td>24</td><td> 9.302326</td></tr>\n",
       "</tbody>\n",
       "</table>\n"
      ],
      "text/latex": [
       "A tibble: 4 × 3\n",
       "\\begin{tabular}{lll}\n",
       " UNS & n & percent\\\\\n",
       " <fct> & <int> & <dbl>\\\\\n",
       "\\hline\n",
       "\t high     & 63 & 24.418605\\\\\n",
       "\t low      & 83 & 32.170543\\\\\n",
       "\t middle   & 88 & 34.108527\\\\\n",
       "\t very\\_low & 24 &  9.302326\\\\\n",
       "\\end{tabular}\n"
      ],
      "text/markdown": [
       "\n",
       "A tibble: 4 × 3\n",
       "\n",
       "| UNS &lt;fct&gt; | n &lt;int&gt; | percent &lt;dbl&gt; |\n",
       "|---|---|---|\n",
       "| high     | 63 | 24.418605 |\n",
       "| low      | 83 | 32.170543 |\n",
       "| middle   | 88 | 34.108527 |\n",
       "| very_low | 24 |  9.302326 |\n",
       "\n"
      ],
      "text/plain": [
       "  UNS      n  percent  \n",
       "1 high     63 24.418605\n",
       "2 low      83 32.170543\n",
       "3 middle   88 34.108527\n",
       "4 very_low 24  9.302326"
      ]
     },
     "metadata": {},
     "output_type": "display_data"
    }
   ],
   "source": [
    "UNS_proportions <- user_knowledge %>%\n",
    "                      group_by(UNS) %>%\n",
    "                      summarize(n = n()) %>%\n",
    "                      mutate(percent = 100*n/nrow(user_knowledge))\n",
    "UNS_proportions"
   ]
  },
  {
   "cell_type": "markdown",
   "metadata": {},
   "source": [
    "*Table 9*: Proportions of each UNS level \n",
    "\n",
    "\n",
    "We have 63 (24%) high levels, 88 (34%) middle levels, 83 (32%) low levels and 24 (9%) very low levels of UNS in our data set."
   ]
  },
  {
   "cell_type": "markdown",
   "metadata": {},
   "source": [
    "Next, we will perform a 10-fold cross-validation so that we can have 10 different options for the validation set. In order to do so, we use the `vfold_cv` function along with the data set, the number of folds (v), and the strata arguments. The strata argument contains our categorical variable `UNS`.  "
   ]
  },
  {
   "cell_type": "code",
   "execution_count": 86,
   "metadata": {},
   "outputs": [
    {
     "name": "stdout",
     "output_type": "stream",
     "text": [
      "#  10-fold cross-validation using stratification \n",
      "\u001b[90m# A tibble: 10 x 2\u001b[39m\n",
      "   splits           id    \n",
      "   \u001b[3m\u001b[90m<list>\u001b[39m\u001b[23m           \u001b[3m\u001b[90m<chr>\u001b[39m\u001b[23m \n",
      "\u001b[90m 1\u001b[39m \u001b[90m<split [231/27]>\u001b[39m Fold01\n",
      "\u001b[90m 2\u001b[39m \u001b[90m<split [231/27]>\u001b[39m Fold02\n",
      "\u001b[90m 3\u001b[39m \u001b[90m<split [231/27]>\u001b[39m Fold03\n",
      "\u001b[90m 4\u001b[39m \u001b[90m<split [232/26]>\u001b[39m Fold04\n",
      "\u001b[90m 5\u001b[39m \u001b[90m<split [232/26]>\u001b[39m Fold05\n",
      "\u001b[90m 6\u001b[39m \u001b[90m<split [233/25]>\u001b[39m Fold06\n",
      "\u001b[90m 7\u001b[39m \u001b[90m<split [233/25]>\u001b[39m Fold07\n",
      "\u001b[90m 8\u001b[39m \u001b[90m<split [233/25]>\u001b[39m Fold08\n",
      "\u001b[90m 9\u001b[39m \u001b[90m<split [233/25]>\u001b[39m Fold09\n",
      "\u001b[90m10\u001b[39m \u001b[90m<split [233/25]>\u001b[39m Fold10\n"
     ]
    }
   ],
   "source": [
    "set.seed(1)\n",
    "\n",
    "user_knowledge_vfold <- vfold_cv(user_knowledge, v = 10, strata = UNS)\n",
    "print(user_knowledge_vfold)"
   ]
  },
  {
   "cell_type": "markdown",
   "metadata": {},
   "source": [
    "Below we make the k_vals data frame with the neighbors variable containing values from 1 to 100 (stepping by 5) using the seq function. After that, we create and tune our model, and specify the recipe with our scaled and centered predictors. Then we make our workflow containing the recipe and the model and we pass the k_vals data frame to the grid argument of tune_grid function. Finally, we use the collect_metrics function to add the mean and standard error of the classifier’s validation accuracy and we filter from the .metrics column to see the accuracy."
   ]
  },
  {
   "cell_type": "code",
   "execution_count": 87,
   "metadata": {},
   "outputs": [
    {
     "name": "stderr",
     "output_type": "stream",
     "text": [
      "\u001b[33m!\u001b[39m \u001b[33mFold04: internal: No observations were detected in `truth` for level(s): 'very_l...\u001b[39m\n",
      "\n",
      "\u001b[33m!\u001b[39m \u001b[33mFold05: internal: No observations were detected in `truth` for level(s): 'very_l...\u001b[39m\n",
      "\n"
     ]
    },
    {
     "data": {
      "text/html": [
       "<table>\n",
       "<caption>A tibble: 20 × 7</caption>\n",
       "<thead>\n",
       "\t<tr><th scope=col>neighbors</th><th scope=col>.metric</th><th scope=col>.estimator</th><th scope=col>mean</th><th scope=col>n</th><th scope=col>std_err</th><th scope=col>.config</th></tr>\n",
       "\t<tr><th scope=col>&lt;dbl&gt;</th><th scope=col>&lt;chr&gt;</th><th scope=col>&lt;chr&gt;</th><th scope=col>&lt;dbl&gt;</th><th scope=col>&lt;int&gt;</th><th scope=col>&lt;dbl&gt;</th><th scope=col>&lt;chr&gt;</th></tr>\n",
       "</thead>\n",
       "<tbody>\n",
       "\t<tr><td> 1</td><td>accuracy</td><td>multiclass</td><td>0.3446154</td><td>10</td><td>0.03265097</td><td>Model01</td></tr>\n",
       "\t<tr><td> 6</td><td>accuracy</td><td>multiclass</td><td>0.4268148</td><td>10</td><td>0.02330864</td><td>Model02</td></tr>\n",
       "\t<tr><td>11</td><td>accuracy</td><td>multiclass</td><td>0.4060684</td><td>10</td><td>0.02477198</td><td>Model03</td></tr>\n",
       "\t<tr><td>⋮</td><td>⋮</td><td>⋮</td><td>⋮</td><td>⋮</td><td>⋮</td><td>⋮</td></tr>\n",
       "\t<tr><td>86</td><td>accuracy</td><td>multiclass</td><td>0.3834188</td><td>10</td><td>0.02239125</td><td>Model18</td></tr>\n",
       "\t<tr><td>91</td><td>accuracy</td><td>multiclass</td><td>0.3832764</td><td>10</td><td>0.01999835</td><td>Model19</td></tr>\n",
       "\t<tr><td>96</td><td>accuracy</td><td>multiclass</td><td>0.3680228</td><td>10</td><td>0.02242504</td><td>Model20</td></tr>\n",
       "</tbody>\n",
       "</table>\n"
      ],
      "text/latex": [
       "A tibble: 20 × 7\n",
       "\\begin{tabular}{lllllll}\n",
       " neighbors & .metric & .estimator & mean & n & std\\_err & .config\\\\\n",
       " <dbl> & <chr> & <chr> & <dbl> & <int> & <dbl> & <chr>\\\\\n",
       "\\hline\n",
       "\t  1 & accuracy & multiclass & 0.3446154 & 10 & 0.03265097 & Model01\\\\\n",
       "\t  6 & accuracy & multiclass & 0.4268148 & 10 & 0.02330864 & Model02\\\\\n",
       "\t 11 & accuracy & multiclass & 0.4060684 & 10 & 0.02477198 & Model03\\\\\n",
       "\t ⋮ & ⋮ & ⋮ & ⋮ & ⋮ & ⋮ & ⋮\\\\\n",
       "\t 86 & accuracy & multiclass & 0.3834188 & 10 & 0.02239125 & Model18\\\\\n",
       "\t 91 & accuracy & multiclass & 0.3832764 & 10 & 0.01999835 & Model19\\\\\n",
       "\t 96 & accuracy & multiclass & 0.3680228 & 10 & 0.02242504 & Model20\\\\\n",
       "\\end{tabular}\n"
      ],
      "text/markdown": [
       "\n",
       "A tibble: 20 × 7\n",
       "\n",
       "| neighbors &lt;dbl&gt; | .metric &lt;chr&gt; | .estimator &lt;chr&gt; | mean &lt;dbl&gt; | n &lt;int&gt; | std_err &lt;dbl&gt; | .config &lt;chr&gt; |\n",
       "|---|---|---|---|---|---|---|\n",
       "|  1 | accuracy | multiclass | 0.3446154 | 10 | 0.03265097 | Model01 |\n",
       "|  6 | accuracy | multiclass | 0.4268148 | 10 | 0.02330864 | Model02 |\n",
       "| 11 | accuracy | multiclass | 0.4060684 | 10 | 0.02477198 | Model03 |\n",
       "| ⋮ | ⋮ | ⋮ | ⋮ | ⋮ | ⋮ | ⋮ |\n",
       "| 86 | accuracy | multiclass | 0.3834188 | 10 | 0.02239125 | Model18 |\n",
       "| 91 | accuracy | multiclass | 0.3832764 | 10 | 0.01999835 | Model19 |\n",
       "| 96 | accuracy | multiclass | 0.3680228 | 10 | 0.02242504 | Model20 |\n",
       "\n"
      ],
      "text/plain": [
       "   neighbors .metric  .estimator mean      n  std_err    .config\n",
       "1   1        accuracy multiclass 0.3446154 10 0.03265097 Model01\n",
       "2   6        accuracy multiclass 0.4268148 10 0.02330864 Model02\n",
       "3  11        accuracy multiclass 0.4060684 10 0.02477198 Model03\n",
       "⋮  ⋮         ⋮        ⋮          ⋮         ⋮  ⋮          ⋮      \n",
       "18 86        accuracy multiclass 0.3834188 10 0.02239125 Model18\n",
       "19 91        accuracy multiclass 0.3832764 10 0.01999835 Model19\n",
       "20 96        accuracy multiclass 0.3680228 10 0.02242504 Model20"
      ]
     },
     "metadata": {},
     "output_type": "display_data"
    }
   ],
   "source": [
    "set.seed(1)\n",
    "\n",
    "k_vals <- tibble(neighbors = seq(from = 1, to = 100, by = 5))\n",
    "\n",
    "knn_tune <- nearest_neighbor(weight_func = \"rectangular\", neighbors = tune()) %>%\n",
    "            set_engine(\"kknn\") %>%\n",
    "            set_mode(\"classification\")\n",
    "\n",
    "user_knowledge_recipe <- recipe(UNS ~ STG + STR, data = user_knowledge) %>%\n",
    "                       step_scale(all_predictors()) %>%\n",
    "                       step_center(all_predictors())\n",
    "\n",
    "# fit the knn model \n",
    "user_knowledge_results <- workflow() %>%\n",
    "                      add_recipe(user_knowledge_recipe) %>%\n",
    "                      add_model(knn_tune) %>%\n",
    "                      tune_grid(resamples = user_knowledge_vfold, grid = k_vals) %>%\n",
    "                      collect_metrics()%>% \n",
    "                      filter(.metric == \"accuracy\") \n",
    "\n",
    "user_knowledge_results"
   ]
  },
  {
   "cell_type": "markdown",
   "metadata": {},
   "source": [
    "*Table 10*: Results from 10-fold cross validation"
   ]
  },
  {
   "cell_type": "markdown",
   "metadata": {},
   "source": [
    "In order to choose the best number of neighbors we create a line graph using the user_knowledge_results dataset with neighbors on the x-axis and the mean on the y-axis."
   ]
  },
  {
   "cell_type": "code",
   "execution_count": 88,
   "metadata": {},
   "outputs": [
    {
     "data": {
      "image/png": "[encoded data removed]",
      "text/plain": [
       "plot without title"
      ]
     },
     "metadata": {
      "image/png": {
       "height": 420,
       "width": 600
      }
     },
     "output_type": "display_data"
    }
   ],
   "source": [
    "options(repr.plot.width = 10, repr.plot.height = 7)\n",
    "\n",
    "accuracy_versus_k <- ggplot(user_knowledge_results, aes(x = neighbors, y = mean))+\n",
    "      geom_point() +\n",
    "      geom_line() +\n",
    "      labs(x = \"Neighbors(#K)\", y = \"Accuracy Estimate\")+\n",
    "      ggtitle(\"Accuracy Versus the number of Neighbors(K)\")+\n",
    "      theme(text = element_text(size = 16))+\n",
    "      scale_x_continuous(breaks = seq(1, 96, by = 5))\n",
    "accuracy_versus_k"
   ]
  },
  {
   "cell_type": "markdown",
   "metadata": {},
   "source": [
    "*Figure 3*: Plot of accuracy estimate vs neighbors"
   ]
  },
  {
   "cell_type": "markdown",
   "metadata": {},
   "source": [
    "We take the K with the highest peak to use in the classifier. In this case, any value between 6 to 11 would be acceptable as they are the highest in the graph. We have decided to use K = 6. We will remake our model using this new K value."
   ]
  },
  {
   "cell_type": "code",
   "execution_count": 89,
   "metadata": {},
   "outputs": [
    {
     "data": {
      "text/plain": [
       "K-Nearest Neighbor Model Specification (classification)\n",
       "\n",
       "Main Arguments:\n",
       "  neighbors = 6\n",
       "  weight_func = rectangular\n",
       "\n",
       "Computational engine: kknn \n"
      ]
     },
     "metadata": {},
     "output_type": "display_data"
    },
    {
     "data": {
      "text/plain": [
       "══ Workflow [trained] ══════════════════════════════════════════════════════════\n",
       "\u001b[3mPreprocessor:\u001b[23m Recipe\n",
       "\u001b[3mModel:\u001b[23m nearest_neighbor()\n",
       "\n",
       "── Preprocessor ────────────────────────────────────────────────────────────────\n",
       "2 Recipe Steps\n",
       "\n",
       "● step_scale()\n",
       "● step_center()\n",
       "\n",
       "── Model ───────────────────────────────────────────────────────────────────────\n",
       "\n",
       "Call:\n",
       "kknn::train.kknn(formula = ..y ~ ., data = data, ks = ~6, kernel = ~\"rectangular\")\n",
       "\n",
       "Type of response variable: nominal\n",
       "Minimal misclassification: 0.5581395\n",
       "Best kernel: rectangular\n",
       "Best k: 6"
      ]
     },
     "metadata": {},
     "output_type": "display_data"
    }
   ],
   "source": [
    "set.seed(1)\n",
    "\n",
    "knn_spec_2 <- nearest_neighbor(weight_func = \"rectangular\", neighbors = 6) %>%\n",
    "          set_engine(\"kknn\") %>%\n",
    "          set_mode(\"classification\")\n",
    "knn_spec_2\n",
    "\n",
    "user_knowledge_fit <- workflow() %>%\n",
    "                      add_recipe(user_knowledge_recipe) %>%\n",
    "                      add_model(knn_spec_2) %>%\n",
    "                      fit(data = user_knowledge)\n",
    "user_knowledge_fit"
   ]
  },
  {
   "cell_type": "markdown",
   "metadata": {},
   "source": [
    "To evaluate the estimated accuracy of our classifier on the test set, we use the `predict` and `bind_cols` functions. We can compare the .pred_class column (which contains the predictions from our classifier) with the `UNS` column (which contains the true values)."
   ]
  },
  {
   "cell_type": "code",
   "execution_count": 90,
   "metadata": {},
   "outputs": [
    {
     "name": "stderr",
     "output_type": "stream",
     "text": [
      "New names:\n",
      "* `` -> ...7\n",
      "* `` -> ...8\n",
      "\n"
     ]
    },
    {
     "data": {
      "text/html": [
       "<table>\n",
       "<caption>A tibble: 145 × 4</caption>\n",
       "<thead>\n",
       "\t<tr><th scope=col>.pred_class</th><th scope=col>STG</th><th scope=col>STR</th><th scope=col>UNS</th></tr>\n",
       "\t<tr><th scope=col>&lt;fct&gt;</th><th scope=col>&lt;dbl&gt;</th><th scope=col>&lt;dbl&gt;</th><th scope=col>&lt;fct&gt;</th></tr>\n",
       "</thead>\n",
       "<tbody>\n",
       "\t<tr><td>low</td><td>0.00</td><td>0.50</td><td>very_low</td></tr>\n",
       "\t<tr><td>low</td><td>0.05</td><td>0.55</td><td>low     </td></tr>\n",
       "\t<tr><td>low</td><td>0.08</td><td>0.63</td><td>high    </td></tr>\n",
       "\t<tr><td>⋮</td><td>⋮</td><td>⋮</td><td>⋮</td></tr>\n",
       "\t<tr><td>middle</td><td>0.56</td><td>0.77</td><td>low   </td></tr>\n",
       "\t<tr><td>middle</td><td>0.66</td><td>0.81</td><td>middle</td></tr>\n",
       "\t<tr><td>middle</td><td>0.68</td><td>0.79</td><td>middle</td></tr>\n",
       "</tbody>\n",
       "</table>\n"
      ],
      "text/latex": [
       "A tibble: 145 × 4\n",
       "\\begin{tabular}{llll}\n",
       " .pred\\_class & STG & STR & UNS\\\\\n",
       " <fct> & <dbl> & <dbl> & <fct>\\\\\n",
       "\\hline\n",
       "\t low & 0.00 & 0.50 & very\\_low\\\\\n",
       "\t low & 0.05 & 0.55 & low     \\\\\n",
       "\t low & 0.08 & 0.63 & high    \\\\\n",
       "\t ⋮ & ⋮ & ⋮ & ⋮\\\\\n",
       "\t middle & 0.56 & 0.77 & low   \\\\\n",
       "\t middle & 0.66 & 0.81 & middle\\\\\n",
       "\t middle & 0.68 & 0.79 & middle\\\\\n",
       "\\end{tabular}\n"
      ],
      "text/markdown": [
       "\n",
       "A tibble: 145 × 4\n",
       "\n",
       "| .pred_class &lt;fct&gt; | STG &lt;dbl&gt; | STR &lt;dbl&gt; | UNS &lt;fct&gt; |\n",
       "|---|---|---|---|\n",
       "| low | 0.00 | 0.50 | very_low |\n",
       "| low | 0.05 | 0.55 | low      |\n",
       "| low | 0.08 | 0.63 | high     |\n",
       "| ⋮ | ⋮ | ⋮ | ⋮ |\n",
       "| middle | 0.56 | 0.77 | low    |\n",
       "| middle | 0.66 | 0.81 | middle |\n",
       "| middle | 0.68 | 0.79 | middle |\n",
       "\n"
      ],
      "text/plain": [
       "    .pred_class STG  STR  UNS     \n",
       "1   low         0.00 0.50 very_low\n",
       "2   low         0.05 0.55 low     \n",
       "3   low         0.08 0.63 high    \n",
       "⋮   ⋮           ⋮    ⋮    ⋮       \n",
       "143 middle      0.56 0.77 low     \n",
       "144 middle      0.66 0.81 middle  \n",
       "145 middle      0.68 0.79 middle  "
      ]
     },
     "metadata": {},
     "output_type": "display_data"
    }
   ],
   "source": [
    "user_knowledge_test <- read_excel(path = \"Data_User_Modeling_Dataset_Hamdi Tolga KAHRAMAN.xls\", sheet = 3) %>%\n",
    "    select(STG, STR, UNS) %>%\n",
    "    mutate(UNS = gsub(\" \", \"\", UNS)) %>%\n",
    "    mutate(UNS = recode(UNS, High = \"high\", Middle = \"middle\", Low = \"low\", VeryLow = \"very_low\")) %>%\n",
    "    mutate(UNS = as.factor(UNS))\n",
    "\n",
    "user_knowledge_test_predictions <- predict(user_knowledge_fit, user_knowledge_test) %>%\n",
    "                                   bind_cols(user_knowledge_test)\n",
    "\n",
    "user_knowledge_test_predictions\n",
    "\n"
   ]
  },
  {
   "cell_type": "markdown",
   "metadata": {},
   "source": [
    "*Table 11*: Testing data with our classifier's prediction added"
   ]
  },
  {
   "cell_type": "markdown",
   "metadata": {},
   "source": [
    "Finally, to get statistics about the quality of our model, we use the metrics function and we filter by .metrics to see the accuracy."
   ]
  },
  {
   "cell_type": "code",
   "execution_count": 91,
   "metadata": {},
   "outputs": [
    {
     "data": {
      "text/html": [
       "<table>\n",
       "<caption>A tibble: 1 × 3</caption>\n",
       "<thead>\n",
       "\t<tr><th scope=col>.metric</th><th scope=col>.estimator</th><th scope=col>.estimate</th></tr>\n",
       "\t<tr><th scope=col>&lt;chr&gt;</th><th scope=col>&lt;chr&gt;</th><th scope=col>&lt;dbl&gt;</th></tr>\n",
       "</thead>\n",
       "<tbody>\n",
       "\t<tr><td>accuracy</td><td>multiclass</td><td>0.3931034</td></tr>\n",
       "</tbody>\n",
       "</table>\n"
      ],
      "text/latex": [
       "A tibble: 1 × 3\n",
       "\\begin{tabular}{lll}\n",
       " .metric & .estimator & .estimate\\\\\n",
       " <chr> & <chr> & <dbl>\\\\\n",
       "\\hline\n",
       "\t accuracy & multiclass & 0.3931034\\\\\n",
       "\\end{tabular}\n"
      ],
      "text/markdown": [
       "\n",
       "A tibble: 1 × 3\n",
       "\n",
       "| .metric &lt;chr&gt; | .estimator &lt;chr&gt; | .estimate &lt;dbl&gt; |\n",
       "|---|---|---|\n",
       "| accuracy | multiclass | 0.3931034 |\n",
       "\n"
      ],
      "text/plain": [
       "  .metric  .estimator .estimate\n",
       "1 accuracy multiclass 0.3931034"
      ]
     },
     "metadata": {},
     "output_type": "display_data"
    }
   ],
   "source": [
    "set.seed(1)\n",
    "\n",
    "user_knowledge_prediction_accuracy <- user_knowledge_test_predictions %>%\n",
    "                metrics(truth = UNS, estimate = .pred_class) %>%\n",
    "                filter(.metric == \"accuracy\")\n",
    "\n",
    "user_knowledge_prediction_accuracy"
   ]
  },
  {
   "cell_type": "markdown",
   "metadata": {},
   "source": [
    "*Table 12*: The metrics of classifier's predictions on the testing data\n",
    "\n",
    "\n",
    "Looking at the value of the .estimate variable shows that the estimated accuracy of the classifier on the test data is 39%."
   ]
  },
  {
   "cell_type": "markdown",
   "metadata": {},
   "source": [
    "Also, by using the conf_mat function we looked at the confusion matrix in order to see the table of predicted labels and correct labels."
   ]
  },
  {
   "cell_type": "code",
   "execution_count": 92,
   "metadata": {},
   "outputs": [
    {
     "data": {
      "text/plain": [
       "          Truth\n",
       "Prediction high low middle very_low\n",
       "  high       11   4      6        5\n",
       "  low        10  27     10       16\n",
       "  middle     18  15     18        4\n",
       "  very_low    0   0      0        1"
      ]
     },
     "metadata": {},
     "output_type": "display_data"
    }
   ],
   "source": [
    "set.seed(1)\n",
    "\n",
    "user_knowledge_mat <- user_knowledge_test_predictions %>% \n",
    "      conf_mat(truth = UNS, estimate = .pred_class)\n",
    "\n",
    "user_knowledge_mat"
   ]
  },
  {
   "cell_type": "markdown",
   "metadata": {},
   "source": [
    "*Table 13*: Confusion matrix that shows correct and incorrect predictions"
   ]
  },
  {
   "cell_type": "markdown",
   "metadata": {},
   "source": [
    "Our classifier predicted `high` correctly 11 times and incorrectly 28 times. It predicted `middle` correctly 18 times and incorrectly 16 times. It predicted `low` correctly 27 times and incorrectly 19 times. It also predicted `very_low` correctly 1 time and incorrectly 25 times."
   ]
  }
 ],
 "metadata": {
  "kernelspec": {
   "display_name": "R",
   "language": "R",
   "name": "ir"
  },
  "language_info": {
   "codemirror_mode": "r",
   "file_extension": ".r",
   "mimetype": "text/x-r-source",
   "name": "R",
   "pygments_lexer": "r",
   "version": "4.0.0"
  }
 },
 "nbformat": 4,
 "nbformat_minor": 4
}
